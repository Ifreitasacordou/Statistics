{
 "cells": [
  {
   "cell_type": "markdown",
   "metadata": {},
   "source": [
    "## Equações Algébricas\n",
    "### Fundamentos de Álgebra\n",
    "##### Aula 01 - Atividade de Potenciação\n"
   ]
  },
  {
   "cell_type": "markdown",
   "metadata": {},
   "source": [
    "##### 1 - Todos nós precisamos de um pai e de uma mãe para a nossa concepção. Nossos pais também precisaram de um pai e de uma mãe, e assim por diante. Considerando você como geração zero e retrocedendo na sua \"árvore genealógica\", responda:"
   ]
  },
  {
   "cell_type": "code",
   "execution_count": 2,
   "metadata": {},
   "outputs": [],
   "source": [
    "base = int(input(\"Qual a base ?\"))\n",
    "expoente = int(input(\"Qual o expoente ?\"))\n",
    "\n",
    "def exp(base, expoente):\n",
    "    return base ** expoente\n",
    "\n",
    "exp(base, expoente)    "
   ]
  },
  {
   "cell_type": "markdown",
   "metadata": {},
   "source": [
    "a) Quantas pessoas participaram da sua concepção na 1ª geração? E na 3ª geração?"
   ]
  },
  {
   "cell_type": "code",
   "execution_count": 21,
   "metadata": {},
   "outputs": [
    {
     "name": "stdout",
     "output_type": "stream",
     "text": [
      "Na 1ª geraçao participaram 2 Pessoas\n",
      "Na 3ª geraçao participaram 8 Pessoas\n"
     ]
    }
   ],
   "source": [
    "print(\"Na 1ª geraçao participaram\", exp(2,1),\"Pessoas\")\n",
    "print(\"Na 3ª geraçao participaram\", exp(2,3),\"Pessoas\")"
   ]
  },
  {
   "cell_type": "markdown",
   "metadata": {},
   "source": [
    "b) Em que geração 4 pessoas participaram da sua concepção ? E 32 pessoas ?"
   ]
  },
  {
   "cell_type": "code",
   "execution_count": 20,
   "metadata": {},
   "outputs": [
    {
     "name": "stdout",
     "output_type": "stream",
     "text": [
      "Na 2ª geração participaram 4 Pessoas\n",
      "Na 5ª geração participaram 32 Pessoas\n"
     ]
    }
   ],
   "source": [
    "print(\"Na 2ª geração participaram\", exp(2,2),\"Pessoas\")\n",
    "print(\"Na 5ª geração participaram\", exp(2,5),\"Pessoas\")"
   ]
  },
  {
   "cell_type": "markdown",
   "metadata": {},
   "source": [
    "c) Quantas pessoas participaram da sua concepção na 10ª geração? E na 100ª geração?"
   ]
  },
  {
   "cell_type": "code",
   "execution_count": 22,
   "metadata": {},
   "outputs": [
    {
     "name": "stdout",
     "output_type": "stream",
     "text": [
      "Na 10ª geração participaram 1024 Pessoas\n",
      "Na 100ª geração participaram 1267650600228229401496703205376 Pessoas\n"
     ]
    }
   ],
   "source": [
    "print(\"Na 10ª geração participaram\", exp(2,10),\"Pessoas\")\n",
    "print(\"Na 100ª geração participaram\", exp(2,100),\"Pessoas\")"
   ]
  },
  {
   "cell_type": "markdown",
   "metadata": {},
   "source": [
    "##### 2 - Uma célula se divide em duas células a cada segundo e as células originárias repetem o mesmo processo. Pergunta-se:"
   ]
  },
  {
   "cell_type": "markdown",
   "metadata": {},
   "source": [
    "a) Quantas células haverá após 10 segundos? E após 1 segundo? E no instante zero ?"
   ]
  },
  {
   "cell_type": "code",
   "execution_count": 29,
   "metadata": {},
   "outputs": [
    {
     "name": "stdout",
     "output_type": "stream",
     "text": [
      "Após 10 segundos haverá 1024 Células\n",
      "Após 1 segundo haverá 2 Células\n",
      "No instante 0 haverá 1 Célula\n"
     ]
    }
   ],
   "source": [
    "print(\"Após 10 segundos haverá\", exp(2,10),\"Células\")\n",
    "print(\"Após 1 segundo haverá\", exp(2,1),\"Células\")\n",
    "print(\"No instante 0 haverá\", exp(2,0),\"Célula\")"
   ]
  },
  {
   "cell_type": "markdown",
   "metadata": {},
   "source": [
    "b) Quais são, em potência de base 2, as respectivas metades das quantidades envolvidas no item anterior ?"
   ]
  },
  {
   "cell_type": "code",
   "execution_count": 41,
   "metadata": {},
   "outputs": [
    {
     "name": "stdout",
     "output_type": "stream",
     "text": [
      "A metade de 1024 é 512 em potência é 2^9\n",
      "A metade de 2 é 1 em potência é 2^0\n",
      "A metade de 1 é 0.5 em potência é 2^-1\n"
     ]
    }
   ],
   "source": [
    "print(\"A metade de\",exp(2,10),\"é\",exp(2,9), \"em potência é 2^9\")\n",
    "print(\"A metade de\",exp(2,1),\"é\",exp(2,0), \"em potência é 2^0\")\n",
    "print(\"A metade de\",exp(2,0),\"é\",exp(2,-1), \"em potência é 2^-1\")"
   ]
  },
  {
   "cell_type": "markdown",
   "metadata": {},
   "source": [
    "c) Calcule em potência de base 2, as respectivas quartas partes do item a.\n",
    "\n",
    "Quarta parte equivale a 1/4 ou seja 25% do número de células.\n",
    "\n",
    "\n",
    "1/4 de 2 é 0.5, em potência de base 2 equivale a 2^-1.\n",
    "1/4 de 1 é 0.25, em potência de base 2 equivale a 2^-1."
   ]
  },
  {
   "cell_type": "code",
   "execution_count": 46,
   "metadata": {},
   "outputs": [
    {
     "name": "stdout",
     "output_type": "stream",
     "text": [
      "1/4 de 1024 é 256.0 em potência de base 2 equivale a 2^8.\n",
      "1/4 de 2 é 0.5 em potência de base 2 equivale a 2^-1.\n",
      "1/4 de 1 é 0.25 em potência de base 2 equivale a 2^-2.\n"
     ]
    }
   ],
   "source": [
    "print(\"1/4 de 1024 é\", 0.25*1024,\"em potência de base 2 equivale a 2^8.\")\n",
    "print(\"1/4 de 2 é\", 0.25*2,\"em potência de base 2 equivale a 2^-1.\")\n",
    "print(\"1/4 de 1 é\", 0.25*1,\"em potência de base 2 equivale a 2^-2.\")\n"
   ]
  },
  {
   "cell_type": "code",
   "execution_count": null,
   "metadata": {},
   "outputs": [],
   "source": []
  }
 ],
 "metadata": {
  "kernelspec": {
   "display_name": "Python 3",
   "language": "python",
   "name": "python3"
  },
  "language_info": {
   "codemirror_mode": {
    "name": "ipython",
    "version": 3
   },
   "file_extension": ".py",
   "mimetype": "text/x-python",
   "name": "python",
   "nbconvert_exporter": "python",
   "pygments_lexer": "ipython3",
   "version": "3.6.3"
  }
 },
 "nbformat": 4,
 "nbformat_minor": 2
}
