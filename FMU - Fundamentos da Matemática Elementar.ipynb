{
 "cells": [
  {
   "cell_type": "markdown",
   "metadata": {},
   "source": [
    "<h1><b>Fundamentos da Matemática Elementar</b></h1> \n",
    "<i>Volume 1 - Edição 09 - 2013</i>\n",
    "\n",
    "<h3><b>Exercício 119</b></h3>\n"
   ]
  },
  {
   "cell_type": "code",
   "execution_count": 8,
   "metadata": {},
   "outputs": [],
   "source": [
    "#Importando a biblioteca matplotlib para gerar os gráficos\n",
    "import matplotlib.pyplot as plt\n",
    "\n",
    "#Conjuntos apresentados no exercício\n",
    "a = [1,3,4]\n",
    "b = [-2,1]\n",
    "c = [-1,0,2]\n",
    "\n",
    "#Função para encontrar o produto cartesiano dos conjuntos\n",
    "def produtoCartesiano(c1, c2):\n",
    "    r = []\n",
    "    x = []\n",
    "    y = []\n",
    "    for i in range(len(c1)):\n",
    "        for j in range(len(c2)):\n",
    "            r.append([c1[i], c2[j]])    \n",
    "            \n",
    "    for i in range(len(r)):\n",
    "        x.append([r[i][0]])\n",
    "    for i in range(len(r)):\n",
    "        y.append([r[i][1]])\n",
    "        \n",
    "    plt.plot(x, y, 'bo')\n",
    "    plt.show()\n",
    "    return print(\"O produto cartesiano é: \", r)\n"
   ]
  },
  {
   "cell_type": "markdown",
   "metadata": {},
   "source": [
    "a) A x B"
   ]
  },
  {
   "cell_type": "code",
   "execution_count": 5,
   "metadata": {},
   "outputs": [
    {
     "data": {
      "image/png": "[encoded data removed]",
      "text/plain": [
       "<matplotlib.figure.Figure at 0x244c1658f28>"
      ]
     },
     "metadata": {},
     "output_type": "display_data"
    },
    {
     "name": "stdout",
     "output_type": "stream",
     "text": [
      "O produto cartesiano é:  [[1, -2], [1, 1], [3, -2], [3, 1], [4, -2], [4, 1]]\n"
     ]
    }
   ],
   "source": [
    "produtoCartesiano(a,b)"
   ]
  },
  {
   "cell_type": "markdown",
   "metadata": {},
   "source": [
    "b) B x A"
   ]
  },
  {
   "cell_type": "code",
   "execution_count": 6,
   "metadata": {},
   "outputs": [
    {
     "data": {
      "image/png": "[encoded data removed]",
      "text/plain": [
       "<matplotlib.figure.Figure at 0x244c3835198>"
      ]
     },
     "metadata": {},
     "output_type": "display_data"
    },
    {
     "name": "stdout",
     "output_type": "stream",
     "text": [
      "O produto cartesiano é:  [[-2, 1], [-2, 3], [-2, 4], [1, 1], [1, 3], [1, 4]]\n"
     ]
    }
   ],
   "source": [
    "produtoCartesiano(b,a)"
   ]
  },
  {
   "cell_type": "markdown",
   "metadata": {},
   "source": [
    "c) A x C"
   ]
  },
  {
   "cell_type": "code",
   "execution_count": 9,
   "metadata": {},
   "outputs": [
    {
     "data": {
      "image/png": "[encoded data removed]",
      "text/plain": [
       "<matplotlib.figure.Figure at 0x244c38f89e8>"
      ]
     },
     "metadata": {},
     "output_type": "display_data"
    },
    {
     "name": "stdout",
     "output_type": "stream",
     "text": [
      "O produto cartesiano é:  [[1, -1], [1, 0], [1, 2], [3, -1], [3, 0], [3, 2], [4, -1], [4, 0], [4, 2]]\n"
     ]
    }
   ],
   "source": [
    "produtoCartesiano(a,c)"
   ]
  },
  {
   "cell_type": "markdown",
   "metadata": {},
   "source": [
    "d) C x A"
   ]
  },
  {
   "cell_type": "code",
   "execution_count": 10,
   "metadata": {},
   "outputs": [
    {
     "data": {
      "image/png": "[encoded data removed]",
      "text/plain": [
       "<matplotlib.figure.Figure at 0x244c388dcc0>"
      ]
     },
     "metadata": {},
     "output_type": "display_data"
    },
    {
     "name": "stdout",
     "output_type": "stream",
     "text": [
      "O produto cartesiano é:  [[-1, 1], [-1, 3], [-1, 4], [0, 1], [0, 3], [0, 4], [2, 1], [2, 3], [2, 4]]\n"
     ]
    }
   ],
   "source": [
    "produtoCartesiano(c,a)"
   ]
  },
  {
   "cell_type": "markdown",
   "metadata": {},
   "source": [
    "<p>e) B²</p>\n",
    "<b>Observação:</b> É o produto cartesiano de B com ele próprio"
   ]
  },
  {
   "cell_type": "code",
   "execution_count": 11,
   "metadata": {},
   "outputs": [
    {
     "data": {
      "image/png": "[encoded data removed]",
      "text/plain": [
       "<matplotlib.figure.Figure at 0x244c39ca278>"
      ]
     },
     "metadata": {},
     "output_type": "display_data"
    },
    {
     "name": "stdout",
     "output_type": "stream",
     "text": [
      "O produto cartesiano é:  [[-2, -2], [-2, 1], [1, -2], [1, 1]]\n"
     ]
    }
   ],
   "source": [
    "produtoCartesiano(b,b)"
   ]
  },
  {
   "cell_type": "markdown",
   "metadata": {},
   "source": [
    "<p>f) C²</p>\n",
    "<b>Observação:</b> É o produto cartesiano de C com ele próprio\n"
   ]
  },
  {
   "cell_type": "code",
   "execution_count": 12,
   "metadata": {},
   "outputs": [
    {
     "data": {
      "image/png": "[encoded data removed]",
      "text/plain": [
       "<matplotlib.figure.Figure at 0x244c39ca0f0>"
      ]
     },
     "metadata": {},
     "output_type": "display_data"
    },
    {
     "name": "stdout",
     "output_type": "stream",
     "text": [
      "O produto cartesiano é:  [[-1, -1], [-1, 0], [-1, 2], [0, -1], [0, 0], [0, 2], [2, -1], [2, 0], [2, 2]]\n"
     ]
    }
   ],
   "source": [
    "produtoCartesiano(c,c)"
   ]
  },
  {
   "cell_type": "markdown",
   "metadata": {},
   "source": [
    "<h3><b>Exercício 120</b></h3>"
   ]
  },
  {
   "cell_type": "code",
   "execution_count": 15,
   "metadata": {},
   "outputs": [],
   "source": [
    "#Conjuntos retirados do exercício\n",
    "\n",
    "a = [1,2,3]\n",
    "b = [-2,-1,0,1,2]\n",
    "c = [-3,-2,-1,0,1]\n"
   ]
  },
  {
   "cell_type": "markdown",
   "metadata": {},
   "source": [
    "a) A x B"
   ]
  },
  {
   "cell_type": "code",
   "execution_count": 16,
   "metadata": {},
   "outputs": [
    {
     "data": {
      "image/png": "[encoded data removed]",
      "text/plain": [
       "<matplotlib.figure.Figure at 0x244c16d1e48>"
      ]
     },
     "metadata": {},
     "output_type": "display_data"
    },
    {
     "name": "stdout",
     "output_type": "stream",
     "text": [
      "O produto cartesiano é:  [[1, -2], [1, -1], [1, 0], [1, 1], [1, 2], [2, -2], [2, -1], [2, 0], [2, 1], [2, 2], [3, -2], [3, -1], [3, 0], [3, 1], [3, 2]]\n"
     ]
    }
   ],
   "source": [
    "produtoCartesiano(a,b)"
   ]
  },
  {
   "cell_type": "markdown",
   "metadata": {},
   "source": [
    "b) A x C"
   ]
  },
  {
   "cell_type": "code",
   "execution_count": 19,
   "metadata": {},
   "outputs": [
    {
     "data": {
      "image/png": "[encoded data removed]",
      "text/plain": [
       "<matplotlib.figure.Figure at 0x244c1759da0>"
      ]
     },
     "metadata": {},
     "output_type": "display_data"
    },
    {
     "name": "stdout",
     "output_type": "stream",
     "text": [
      "O produto cartesiano é:  [[1, -3], [1, -2], [1, -1], [1, 0], [1, 1], [2, -3], [2, -2], [2, -1], [2, 0], [2, 1], [3, -3], [3, -2], [3, -1], [3, 0], [3, 1]]\n"
     ]
    }
   ],
   "source": [
    "produtoCartesiano(a,c)"
   ]
  },
  {
   "cell_type": "markdown",
   "metadata": {},
   "source": [
    "c) B x C"
   ]
  },
  {
   "cell_type": "code",
   "execution_count": 20,
   "metadata": {},
   "outputs": [
    {
     "data": {
      "image/png": "[encoded data removed]",
      "text/plain": [
       "<matplotlib.figure.Figure at 0x244c1759c88>"
      ]
     },
     "metadata": {},
     "output_type": "display_data"
    },
    {
     "name": "stdout",
     "output_type": "stream",
     "text": [
      "O produto cartesiano é:  [[-2, -3], [-2, -2], [-2, -1], [-2, 0], [-2, 1], [-1, -3], [-1, -2], [-1, -1], [-1, 0], [-1, 1], [0, -3], [0, -2], [0, -1], [0, 0], [0, 1], [1, -3], [1, -2], [1, -1], [1, 0], [1, 1], [2, -3], [2, -2], [2, -1], [2, 0], [2, 1]]\n"
     ]
    }
   ],
   "source": [
    "produtoCartesiano(b,c)"
   ]
  },
  {
   "cell_type": "markdown",
   "metadata": {},
   "source": [
    "d) C x B"
   ]
  },
  {
   "cell_type": "code",
   "execution_count": 21,
   "metadata": {},
   "outputs": [
    {
     "data": {
      "image/png": "[encoded data removed]",
      "text/plain": [
       "<matplotlib.figure.Figure at 0x244c3858f98>"
      ]
     },
     "metadata": {},
     "output_type": "display_data"
    },
    {
     "name": "stdout",
     "output_type": "stream",
     "text": [
      "O produto cartesiano é:  [[-3, -2], [-3, -1], [-3, 0], [-3, 1], [-3, 2], [-2, -2], [-2, -1], [-2, 0], [-2, 1], [-2, 2], [-1, -2], [-1, -1], [-1, 0], [-1, 1], [-1, 2], [0, -2], [0, -1], [0, 0], [0, 1], [0, 2], [1, -2], [1, -1], [1, 0], [1, 1], [1, 2]]\n"
     ]
    }
   ],
   "source": [
    "produtoCartesiano(c,b)"
   ]
  },
  {
   "cell_type": "markdown",
   "metadata": {},
   "source": [
    "<p>e) A²</p>\n",
    "<b>Observação:</b> É o produto cartesiano de A com ele próprio"
   ]
  },
  {
   "cell_type": "code",
   "execution_count": 22,
   "metadata": {},
   "outputs": [
    {
     "data": {
      "image/png": "[encoded data removed]",
      "text/plain": [
       "<matplotlib.figure.Figure at 0x244c39e0f98>"
      ]
     },
     "metadata": {},
     "output_type": "display_data"
    },
    {
     "name": "stdout",
     "output_type": "stream",
     "text": [
      "O produto cartesiano é:  [[1, 1], [1, 2], [1, 3], [2, 1], [2, 2], [2, 3], [3, 1], [3, 2], [3, 3]]\n"
     ]
    }
   ],
   "source": [
    "produtoCartesiano(a,a)"
   ]
  },
  {
   "cell_type": "markdown",
   "metadata": {},
   "source": [
    "<p>f) C²</p>\n",
    "<b>Observação:</b> É o produto cartesiano de C com ele próprio"
   ]
  },
  {
   "cell_type": "code",
   "execution_count": 23,
   "metadata": {},
   "outputs": [
    {
     "data": {
      "image/png": "[encoded data removed]",
      "text/plain": [
       "<matplotlib.figure.Figure at 0x244c3814438>"
      ]
     },
     "metadata": {},
     "output_type": "display_data"
    },
    {
     "name": "stdout",
     "output_type": "stream",
     "text": [
      "O produto cartesiano é:  [[-3, -3], [-3, -2], [-3, -1], [-3, 0], [-3, 1], [-2, -3], [-2, -2], [-2, -1], [-2, 0], [-2, 1], [-1, -3], [-1, -2], [-1, -1], [-1, 0], [-1, 1], [0, -3], [0, -2], [0, -1], [0, 0], [0, 1], [1, -3], [1, -2], [1, -1], [1, 0], [1, 1]]\n"
     ]
    }
   ],
   "source": [
    "produtoCartesiano(c,c)"
   ]
  },
  {
   "cell_type": "code",
   "execution_count": null,
   "metadata": {},
   "outputs": [],
   "source": []
  }
 ],
 "metadata": {
  "kernelspec": {
   "display_name": "Python 3",
   "language": "python",
   "name": "python3"
  },
  "language_info": {
   "codemirror_mode": {
    "name": "ipython",
    "version": 3
   },
   "file_extension": ".py",
   "mimetype": "text/x-python",
   "name": "python",
   "nbconvert_exporter": "python",
   "pygments_lexer": "ipython3",
   "version": "3.6.3"
  }
 },
 "nbformat": 4,
 "nbformat_minor": 2
}
