{
 "cells": [
  {
   "attachments": {},
   "cell_type": "markdown",
   "metadata": {},
   "source": [
    "# Lista de Exercícios de Revisão\n",
    "<i>Autor: Igor Freitas de Oliveira</i>\n",
    "\n",
    "### Exercícios resolvidos relacionado a matéria de Métodos Computacionais  \n",
    "<b>Professor:</b> Júlio César Ardito\n",
    "Linguagem utilizada: Python 3.6.5\n",
    "<img src='https://www.h-its.org/wp-content/uploads/2017/07/python-logo-master-v3-TM.png'>  \n",
    "\n",
    "\n",
    "1. A partir de uma sequência digitada de números inteiros não-nulos, terminada em 0 (zero é o último número da sequência, usado para parar), imprimir seus quadrados. \n",
    "\n",
    "2.  A partir de um número inteiro positivo n, calcular a soma dos n primeiros números inteiros positivos. \n",
    "\n",
    "3.  A partir de um número inteiro positivo n, digitado pelo usuário, imprimir os n primeiros naturais ímpares. \n",
    "Exemplo: Para n=4 a saída deverá ser 1,3,5,7. \n",
    "4.  Faça um programa que pede um inteiro x e um inteiro não-negativo n e calcule x n. \n",
    "\n",
    "5.  Dado um valor n e uma sequência de n números inteiros, determinar a soma dos números pares. \n",
    "6.  A partir de um inteiro não-negativo n, fornecido pelo usuário, determinar n! \n",
    "\n",
    "\n",
    "7.  Dado um inteiro positivo n, verificar se n é primo. \n",
    "8.  Dizemos que um inteiro positivo n é perfeito se for igual à soma de seus divisores positivos diferentes de n. \n",
    "Exemplo: 6 é perfeito, pois 1+2+3 = 6.\n",
    "       Dado um inteiro positivo n, verificar se n é perfeito. \n",
    "\n",
    "\n",
    "9.  Um matemático italiano da idade média conseguiu modelar o ritmo de crescimento da população de coelhos (1) através de uma sequência de números naturais que passou a ser conhecida como sequência de Fibonacci (2). O n-ésimo número da sequência de Fibonacci Fn é dado pela seguinte fórmula de recorrência: \n",
    "          Faça um programa que, dado n, calcula Fn. \n",
    "\n",
    "\n",
    "10.  Dados três números naturais, verificar se eles formam os lados de um triângulo retângulo. \n",
    "\n",
    "11.  Dados três números, imprimi-los em ordem crescente. \n",
    "\n",
    "12. Dado um número n >= 0 (DIGITADO PELO USUÁRIO), calcular os fatoriais dos números de 0 a n.\n",
    "13. Imprima a tabuada de 0 a 10 (use o conceito de repetição encaixada)\n"
   ]
  },
  {
   "cell_type": "code",
   "execution_count": 1,
   "metadata": {},
   "outputs": [
    {
     "name": "stdout",
     "output_type": "stream",
     "text": [
      "Número: \n",
      "5\n",
      "Número: \n",
      "0\n",
      "\n",
      "O quadrado de 5 é 25\n"
     ]
    }
   ],
   "source": [
    "#Exercício 1\n",
    "\n",
    "quadrados = [];\n",
    "while True:\n",
    "    n = int(input(\"Número: \\n\"))\n",
    "    \n",
    "    if(n != 0):\n",
    "        quadrados.append(n);\n",
    "    else:\n",
    "        print(\"\");\n",
    "        \n",
    "        for i in quadrados:\n",
    "            print(\"O quadrado de\",i,\"é\",i*i);\n",
    "        break;  \n"
   ]
  },
  {
   "cell_type": "code",
   "execution_count": 10,
   "metadata": {},
   "outputs": [
    {
     "name": "stdout",
     "output_type": "stream",
     "text": [
      "Número: \n",
      "10\n",
      "\n",
      "A soma dos números é 45\n"
     ]
    }
   ],
   "source": [
    "#Exercício 2\n",
    "#A Soma dos 10 números 0+1+2+3+4+5+6+7+8+9 = 45\n",
    "#Caso queira somar o número 10 digite altere o para, 'for i in range(n+1)...'\n",
    "\n",
    "n = int(input(\"Número: \\n\"))\n",
    "\n",
    "soma = 0;\n",
    "for i in range(n):\n",
    "    soma += i;\n",
    "print(\"\\nA soma dos números é\",soma)"
   ]
  },
  {
   "cell_type": "code",
   "execution_count": 7,
   "metadata": {},
   "outputs": [
    {
     "name": "stdout",
     "output_type": "stream",
     "text": [
      "Número: \n",
      "10\n",
      "\n",
      "Números Ímpares: \n",
      "1 3 5 7 9 "
     ]
    }
   ],
   "source": [
    "#Exercício 3\n",
    "\n",
    "n = int(input(\"Número: \\n\"))\n",
    "print(\"\");\n",
    "impares = [];\n",
    "for i in range(n):\n",
    "    if i % 2 != 0:\n",
    "        impares.append(i);\n",
    "        \n",
    "print(\"Números Ímpares: \");        \n",
    "for i in range(len(impares)):\n",
    "    print(impares[i],\"\",end=\"\");"
   ]
  },
  {
   "cell_type": "code",
   "execution_count": 3,
   "metadata": {},
   "outputs": [
    {
     "name": "stdout",
     "output_type": "stream",
     "text": [
      "Número 1: \n",
      "-3\n",
      "Número 2:\n",
      "2\n",
      "\n",
      "-3 x 2 = -6\n"
     ]
    }
   ],
   "source": [
    "#Exercício 4\n",
    "#Vou considerar Calcule x n do enunciado como se fosse uma multiplicação entre x & n.\n",
    "\n",
    "b = int(input(\"Número 1: \\n\"));\n",
    "e = int(input(\"Número 2:\\n\"));\n",
    "print(\"\")\n",
    "print(b,\"x\",e,\"=\",b*e);"
   ]
  },
  {
   "cell_type": "code",
   "execution_count": 2,
   "metadata": {},
   "outputs": [
    {
     "name": "stdout",
     "output_type": "stream",
     "text": [
      "Digite o tamanho da sequência: \n",
      "3\n",
      "\n",
      "Número: \n",
      "1\n",
      "Número: \n",
      "2\n",
      "Número: \n",
      "3\n",
      "\n",
      "A soma dos números pares da sequência é: 2\n"
     ]
    }
   ],
   "source": [
    "#Exercício 5\n",
    "\n",
    "tamanhoSequencia = int(input(\"Digite o tamanho da sequência: \\n\"));\n",
    "print(\"\");\n",
    "i = 0;\n",
    "soma = 0;\n",
    "while i < tamanhoSequencia:\n",
    "    n = int(input(\"Número: \\n\"));\n",
    "    if(n%2 == 0):\n",
    "        soma += n;\n",
    "    i+=1\n",
    "print(\"\\nA soma dos números pares da sequência é:\",soma);"
   ]
  },
  {
   "cell_type": "code",
   "execution_count": 9,
   "metadata": {},
   "outputs": [
    {
     "name": "stdout",
     "output_type": "stream",
     "text": [
      "Número:\n",
      "5\n",
      "\n",
      "\n",
      "5 ! = 120\n"
     ]
    }
   ],
   "source": [
    "#Exercício 6\n",
    "n = int(input(\"Número:\\n\"));\n",
    "i = 0;\n",
    "fatorial = 1;\n",
    "while i < n:\n",
    "    fatorial *= (n-i);\n",
    "    i+=1;\n",
    "print(\"\\n\");    \n",
    "print(n,\"!\",\"=\",fatorial);\n",
    "    "
   ]
  },
  {
   "cell_type": "code",
   "execution_count": 17,
   "metadata": {},
   "outputs": [
    {
     "name": "stdout",
     "output_type": "stream",
     "text": [
      "Número:\n",
      "5\n",
      "\n",
      "É primo !\n"
     ]
    }
   ],
   "source": [
    "#Exercício 7\n",
    "\n",
    "n = int(input(\"Número:\\n\"));\n",
    "\n",
    "contador = 0;\n",
    "for i in range(1,10):\n",
    "    if(n%i == 0):\n",
    "        contador += 1;\n",
    "print(\"\");\n",
    "if(contador > 2):\n",
    "    print(\"Não é primo !\");\n",
    "else:\n",
    "    print(\"É primo !\");      \n",
    "       "
   ]
  },
  {
   "cell_type": "code",
   "execution_count": 35,
   "metadata": {},
   "outputs": [
    {
     "name": "stdout",
     "output_type": "stream",
     "text": [
      "Número:\n",
      "28\n",
      "\n",
      "O número é perfeito !\n"
     ]
    }
   ],
   "source": [
    "#Exercício 8\n",
    "n = int(input(\"Número:\\n\"));\n",
    "\n",
    "contador = 0;\n",
    "soma = 0;\n",
    "print(\"\");\n",
    "for i in range(1,n):\n",
    "    if(n%i == 0):\n",
    "        soma += i;\n",
    "\n",
    "if(soma == n):\n",
    "    print(\"O número é perfeito !\");\n",
    "else:\n",
    "    print(\"O número não é perfeito !\");    \n"
   ]
  },
  {
   "cell_type": "code",
   "execution_count": 49,
   "metadata": {},
   "outputs": [
    {
     "name": "stdout",
     "output_type": "stream",
     "text": [
      "Digite o valor de n (n > 0): 2\n",
      "1\n"
     ]
    }
   ],
   "source": [
    "#Exercício 9\n",
    "n = int(input(\"Digite o valor de n (n > 0): \"))\n",
    "\n",
    "f_ant   = 0\n",
    "f_atual = 1\n",
    "i       = 1  \n",
    "  \n",
    "while i < n:\n",
    "    f_prox  = f_ant + f_atual\n",
    "    f_ant   = f_atual\n",
    "    f_atual = f_prox\n",
    "    i+=1\n",
    "    \n",
    "print(f_atual)"
   ]
  },
  {
   "cell_type": "code",
   "execution_count": 52,
   "metadata": {},
   "outputs": [
    {
     "name": "stdout",
     "output_type": "stream",
     "text": [
      "Lado 1: \n",
      "1\n",
      "Lado 2:\n",
      "2\n",
      "Lado 3:\n",
      "3\n",
      "O triangulo não é retangulo\n",
      "\n"
     ]
    }
   ],
   "source": [
    "#Exercicio 10\n",
    "\n",
    "a = int(input(\"Lado 1: \\n\" ));\n",
    "b = int(input(\"Lado 2:\\n\" ));\n",
    "c = int(input(\"Lado 3:\\n\" ));\n",
    "              \n",
    "\n",
    "if (b > a):\n",
    "    aux = a;\n",
    "    a = b;\n",
    "    b = aux;\n",
    "\n",
    "if (c > a):\n",
    "    aux = a;\n",
    "    a = c;\n",
    "    c = aux;\n",
    "\n",
    "if (a * a == b * b + c * c):\n",
    "    print(\"O triangulo é retângulo\\n\");\n",
    "else: \n",
    "    print(\"O triangulo não é retângulo\\n\");\n",
    "\n"
   ]
  },
  {
   "cell_type": "code",
   "execution_count": 57,
   "metadata": {},
   "outputs": [
    {
     "name": "stdout",
     "output_type": "stream",
     "text": [
      "N1: 1\n",
      "N2: 2\n",
      "N3: 3\n",
      "\n",
      "O maior número é o 3 !\n"
     ]
    }
   ],
   "source": [
    "#Exercício 11\n",
    "\n",
    "a = int(input(\"N1: \"));\n",
    "b = int(input(\"N2: \"));\n",
    "c = int(input(\"N3: \"));\n",
    "\n",
    "print(\"\");\n",
    "if(a > c ):\n",
    "    maior = a;\n",
    "elif(c > a):\n",
    "    maior = c;\n",
    "elif(a > b):\n",
    "    maior = a;\n",
    "elif(b > a):\n",
    "    maior = b;\n",
    "elif(b > c):\n",
    "    maior = b;\n",
    "else:\n",
    "    maior = c;\n",
    "\n",
    "print(\"O maior número é o\",maior,\"!\");\n"
   ]
  },
  {
   "cell_type": "code",
   "execution_count": 67,
   "metadata": {},
   "outputs": [
    {
     "name": "stdout",
     "output_type": "stream",
     "text": [
      "Número de Fatoriais: 9\n",
      "0 ! =  1\n",
      "1 ! =  1\n",
      "2 ! =  2\n",
      "3 ! =  6\n",
      "4 ! =  24\n",
      "5 ! =  120\n",
      "6 ! =  720\n",
      "7 ! =  5040\n",
      "8 ! =  40320\n"
     ]
    }
   ],
   "source": [
    "#Exercício 12\n",
    "\n",
    "def main():   \n",
    "    def fatorial(n):\n",
    "        i = 0;\n",
    "        fat = 1;\n",
    "        while i < n:\n",
    "            fat *= (n-i);\n",
    "            i+=1;\n",
    "        return fat;\n",
    "    \n",
    "    b = int(input(\"Número de Fatoriais: \"));\n",
    "    for i in range(b):\n",
    "        print(i,\"! = \",fatorial(i));\n",
    "main()\n"
   ]
  },
  {
   "cell_type": "code",
   "execution_count": 72,
   "metadata": {},
   "outputs": [
    {
     "name": "stdout",
     "output_type": "stream",
     "text": [
      "Digite o número do qual quer ver a tabuada: 10\n",
      "\n",
      "A tabuada do 10 é a seguinte: \n",
      "10 x 0 = 0\n",
      "10 x 1 = 10\n",
      "10 x 2 = 20\n",
      "10 x 3 = 30\n",
      "10 x 4 = 40\n",
      "10 x 5 = 50\n",
      "10 x 6 = 60\n",
      "10 x 7 = 70\n",
      "10 x 8 = 80\n",
      "10 x 9 = 90\n",
      "10 x 10 = 100\n"
     ]
    }
   ],
   "source": [
    "#Exercício 13\n",
    "\n",
    "n = int(input(\"Digite o número do qual quer ver a tabuada: \"));\n",
    "print(\"\");\n",
    "print(\"A tabuada do\", n, \"é a seguinte: \");\n",
    "for i in range(10+1):\n",
    "    print(n,\"x\",i,\"=\",i*n);"
   ]
  },
  {
   "cell_type": "code",
   "execution_count": null,
   "metadata": {},
   "outputs": [],
   "source": []
  }
 ],
 "metadata": {
  "kernelspec": {
   "display_name": "Python 3",
   "language": "python",
   "name": "python3"
  },
  "language_info": {
   "codemirror_mode": {
    "name": "ipython",
    "version": 3
   },
   "file_extension": ".py",
   "mimetype": "text/x-python",
   "name": "python",
   "nbconvert_exporter": "python",
   "pygments_lexer": "ipython3",
   "version": "3.6.5"
  }
 },
 "nbformat": 4,
 "nbformat_minor": 2
}
